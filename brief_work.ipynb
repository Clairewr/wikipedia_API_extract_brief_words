{
 "cells": [
  {
   "cell_type": "markdown",
   "metadata": {},
   "source": [
    "# step1.获取数据: 简单存为csv_table.csv文件"
   ]
  },
  {
   "cell_type": "code",
   "execution_count": 2,
   "metadata": {},
   "outputs": [],
   "source": [
    "from langconv import *\n",
    "import pandas as pd\n",
    "#显示所有列\n",
    "pd.set_option('display.max_columns', None)\n",
    "#显示所有行\n",
    "pd.set_option('display.max_rows', None)\n",
    "#设置value的显示长度为100，默认为50\n",
    "pd.set_option('max_colwidth',1000)\n"
   ]
  },
  {
   "cell_type": "code",
   "execution_count": 3,
   "metadata": {},
   "outputs": [
    {
     "name": "stdout",
     "output_type": "stream",
     "text": [
      "3590\n"
     ]
    }
   ],
   "source": [
    "def get_company_name_list():\n",
    "    lines=open('company_cn.txt','r',encoding='utf-8').readlines()\n",
    "    list_data=[]\n",
    "    print(len(lines))\n",
    "\n",
    "    for i in lines:\n",
    "        i = i.strip('\\n')\n",
    "        list_data.append(i)\n",
    "\n",
    "    return list_data\n",
    "\n",
    "list_data=get_company_name_list()\n",
    "\n",
    "def save_to_csv(list_data):\n",
    "\n",
    "    # %u7B80%u79F0 简称\n",
    "    # [\\u4e00-\\u9fa5] 中文所有字\n",
    "    name_list=[]\n",
    "    result_list=[]\n",
    "    wikipedia.set_lang('zh')\n",
    "\n",
    "    for company_name in list_data:\n",
    "        try:\n",
    "            sentence = wikipedia.summary(company_name, sentences=1, auto_suggest=False)\n",
    "            name_list.append(company_name)\n",
    "            result_list.append(sentence)\n",
    "            \n",
    "        except Exception as e:\n",
    "            continue\n",
    "    result={'name':name_list,'result':result_list}\n",
    "    df = pd.DataFrame(result)\n",
    "    df.to_csv('csv_table.csv')\n",
    "    return 0"
   ]
  },
  {
   "cell_type": "code",
   "execution_count": 4,
   "metadata": {},
   "outputs": [],
   "source": [
    "import os\n",
    "import pandas as pd\n",
    "\n",
    "if not os.path.exists('csv_table.csv'):\n",
    "    save_to_csv(list_data)\n",
    "else:\n",
    "    df=pd.read_csv('csv_table.csv')"
   ]
  },
  {
   "cell_type": "code",
   "execution_count": 5,
   "metadata": {},
   "outputs": [],
   "source": [
    "sentence_list=list(df['result'])\n"
   ]
  },
  {
   "cell_type": "markdown",
   "metadata": {},
   "source": [
    "# step2:数据清洗：所有句子繁体转简体"
   ]
  },
  {
   "cell_type": "code",
   "execution_count": 6,
   "metadata": {},
   "outputs": [
    {
     "name": "stdout",
     "output_type": "stream",
     "text": [
      "409\n",
      "409\n"
     ]
    }
   ],
   "source": [
    "#将所有繁体句子转换为简体句子\n",
    "new_sentence_list=[]\n",
    "for item in sentence_list:\n",
    "    new_item=''\n",
    "    for inde,ch in enumerate(item):\n",
    "        if ch>'\\u4e00' or '\\u9fa5'>ch:\n",
    "            #print(ch)\n",
    "            ch=ch.encode(encoding=\"utf-8\")\n",
    "            ch = Converter('zh-hans').convert(ch.decode('utf-8'))\n",
    "            ch = ch.encode('utf-8').decode('utf-8')\n",
    "            #print(ch)\n",
    "        new_item=new_item+ch\n",
    "    #print(new_item)\n",
    "    new_sentence_list.append(new_item)\n",
    "print(len(new_sentence_list))\n",
    "name_list=list(df['name'])\n",
    "print(len(name_list))"
   ]
  },
  {
   "cell_type": "code",
   "execution_count": 7,
   "metadata": {},
   "outputs": [],
   "source": [
    "result_dict={'name':name_list,'sentence':new_sentence_list}\n",
    "clean_df=pd.DataFrame(result_dict)\n",
    "clean_df.to_csv('clean_data.csv')"
   ]
  },
  {
   "cell_type": "code",
   "execution_count": null,
   "metadata": {},
   "outputs": [],
   "source": []
  },
  {
   "cell_type": "markdown",
   "metadata": {},
   "source": [
    "# step3:正则匹配简称字段"
   ]
  },
  {
   "cell_type": "code",
   "execution_count": 8,
   "metadata": {},
   "outputs": [],
   "source": [
    "import warnings\n",
    "warnings.filterwarnings('ignore')\n",
    "\n",
    "import wikipedia\n",
    "import re\n",
    "import pandas as pd\n",
    "\n",
    "def get_breif_name(company_name_list,sentence_list):\n",
    "    # %u7B80%u79F0 简称\n",
    "    # [\\u4e00-\\u9fa5] 中文所有字\n",
    "    result_list=[]\n",
    "    name_list=[]\n",
    "    seg_result_list=[]\n",
    "\n",
    "    for company_name,item in zip(company_name_list,sentence_list):\n",
    "        try:\n",
    "            \n",
    "            item_list_result=[]\n",
    "            pattern = re.compile('[a-zA-Z]*[简][称].*?[\\u4e00-\\u9fa5]+[a-zA-Z]*')\n",
    "            result = re.findall(pattern, item)\n",
    "            if result==[]:\n",
    "                continue\n",
    "            for i in result:\n",
    "                item_list_result.append(re.sub('[:：]','',i)[2:])\n",
    "            #print(item_list_result)\n",
    "            result_list.append(item_list_result)\n",
    "            name_list.append(company_name)\n",
    "            \n",
    "        except Exception as e:\n",
    "            continue\n",
    "    \n",
    "    #分割 和 或 连接词\n",
    "    for result in result_list:\n",
    "        item_list=[]\n",
    "        for item in result:\n",
    "            item_list=item_list+'和'.join(item.split('或')).split('和')\n",
    "        \n",
    "        seg_result_list.append(item_list)\n",
    "\n",
    "    \n",
    "    \n",
    "    #去掉部分引号\n",
    "    final_result_list=[]\n",
    "    for item in seg_result_list:\n",
    "        list_item=[]\n",
    "        for i in item:\n",
    "            #print(re.findall('[a-zA-z]*[\\u4e00-\\u9fa5]+[a-zA-z]*',i))\n",
    "            list_item=list_item+[i.replace(\"'\",'').replace(',','').replace('“','')]\n",
    "        final_result_list.append(list_item)\n",
    "\n",
    "    \n",
    "    \n",
    "    result_dict={'name':name_list,'brief':final_result_list}\n",
    "    #print(result_dict)\n",
    "    df=pd.DataFrame(result_dict)\n",
    "    return df"
   ]
  },
  {
   "cell_type": "markdown",
   "metadata": {},
   "source": [
    "### 查看含有简称字段的条数："
   ]
  },
  {
   "cell_type": "code",
   "execution_count": 9,
   "metadata": {},
   "outputs": [
    {
     "name": "stdout",
     "output_type": "stream",
     "text": [
      "268\n"
     ]
    }
   ],
   "source": [
    "\n",
    "brief_num=0\n",
    "for index,item in enumerate(new_sentence_list):\n",
    "    if re.search('[\\u7B80][\\u79F0]',item):\n",
    "        brief_num=brief_num+1\n",
    "    \n",
    "print(brief_num)"
   ]
  },
  {
   "cell_type": "markdown",
   "metadata": {},
   "source": [
    "### 执行正则提取操作，查看匹配条数是否等于含有简称两个字的item数目"
   ]
  },
  {
   "cell_type": "code",
   "execution_count": 10,
   "metadata": {
    "scrolled": true
   },
   "outputs": [
    {
     "data": {
      "text/html": [
       "<div>\n",
       "<style scoped>\n",
       "    .dataframe tbody tr th:only-of-type {\n",
       "        vertical-align: middle;\n",
       "    }\n",
       "\n",
       "    .dataframe tbody tr th {\n",
       "        vertical-align: top;\n",
       "    }\n",
       "\n",
       "    .dataframe thead th {\n",
       "        text-align: right;\n",
       "    }\n",
       "</style>\n",
       "<table border=\"1\" class=\"dataframe\">\n",
       "  <thead>\n",
       "    <tr style=\"text-align: right;\">\n",
       "      <th></th>\n",
       "      <th>name</th>\n",
       "      <th>brief</th>\n",
       "    </tr>\n",
       "  </thead>\n",
       "  <tbody>\n",
       "    <tr>\n",
       "      <th>0</th>\n",
       "      <td>平安银行股份有限公司</td>\n",
       "      <td>[平安银行]</td>\n",
       "    </tr>\n",
       "    <tr>\n",
       "      <th>1</th>\n",
       "      <td>万科企业股份有限公司</td>\n",
       "      <td>[万科, 万科集团]</td>\n",
       "    </tr>\n",
       "    <tr>\n",
       "      <th>2</th>\n",
       "      <td>深圳中国农大科技股份有限公司</td>\n",
       "      <td>[G*ST国农, 深安达]</td>\n",
       "    </tr>\n",
       "    <tr>\n",
       "      <th>3</th>\n",
       "      <td>深圳世纪星源股份有限公司</td>\n",
       "      <td>[GST星源, 深原野]</td>\n",
       "    </tr>\n",
       "    <tr>\n",
       "      <th>4</th>\n",
       "      <td>中国宝安集团股份有限公司</td>\n",
       "      <td>[深宝安A, 深宝安]</td>\n",
       "    </tr>\n",
       "  </tbody>\n",
       "</table>\n",
       "</div>"
      ],
      "text/plain": [
       "             name          brief\n",
       "0      平安银行股份有限公司         [平安银行]\n",
       "1      万科企业股份有限公司     [万科, 万科集团]\n",
       "2  深圳中国农大科技股份有限公司  [G*ST国农, 深安达]\n",
       "3    深圳世纪星源股份有限公司   [GST星源, 深原野]\n",
       "4    中国宝安集团股份有限公司    [深宝安A, 深宝安]"
      ]
     },
     "execution_count": 10,
     "metadata": {},
     "output_type": "execute_result"
    }
   ],
   "source": [
    "company_name_list = clean_df.iloc[:,0]\n",
    "sentence_list=clean_df.iloc[:,1]\n",
    "df=get_breif_name(company_name_list,new_sentence_list)\n",
    "df.head()"
   ]
  },
  {
   "cell_type": "code",
   "execution_count": 11,
   "metadata": {},
   "outputs": [],
   "source": [
    "df.to_csv('result.csv')"
   ]
  },
  {
   "cell_type": "code",
   "execution_count": 12,
   "metadata": {},
   "outputs": [],
   "source": [
    "a=[1,2,3]\n",
    "b=[4,5,6]\n",
    "c=[7,8]\n",
    "d=a+b"
   ]
  },
  {
   "cell_type": "code",
   "execution_count": 13,
   "metadata": {},
   "outputs": [
    {
     "data": {
      "text/plain": [
       "0.11392757660167131"
      ]
     },
     "execution_count": 13,
     "metadata": {},
     "output_type": "execute_result"
    }
   ],
   "source": [
    "#搜索成功占比11.4%\n",
    "409/3590"
   ]
  },
  {
   "cell_type": "code",
   "execution_count": 14,
   "metadata": {},
   "outputs": [
    {
     "data": {
      "text/plain": [
       "0.6552567237163814"
      ]
     },
     "execution_count": 14,
     "metadata": {},
     "output_type": "execute_result"
    }
   ],
   "source": [
    "#提取简称占比35.5%\n",
    "268/409"
   ]
  }
 ],
 "metadata": {
  "kernelspec": {
   "display_name": "Python 3",
   "language": "python",
   "name": "python3"
  },
  "language_info": {
   "codemirror_mode": {
    "name": "ipython",
    "version": 3
   },
   "file_extension": ".py",
   "mimetype": "text/x-python",
   "name": "python",
   "nbconvert_exporter": "python",
   "pygments_lexer": "ipython3",
   "version": "3.7.3"
  }
 },
 "nbformat": 4,
 "nbformat_minor": 2
}
